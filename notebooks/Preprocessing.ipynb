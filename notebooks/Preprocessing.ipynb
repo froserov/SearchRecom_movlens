{
 "cells": [
  {
   "cell_type": "markdown",
   "metadata": {},
   "source": [
    "## Preprocesamiento de información para app de busqueda y recomendacion "
   ]
  },
  {
   "cell_type": "code",
   "execution_count": 3,
   "metadata": {},
   "outputs": [
    {
     "name": "stdout",
     "output_type": "stream",
     "text": [
      " Archivos preprocesados guardados exitosamente.\n"
     ]
    }
   ],
   "source": [
    "import os\n",
    "import pandas as pd\n",
    "import numpy as np\n",
    "from pathlib import Path\n",
    "from sklearn.feature_extraction.text import TfidfVectorizer\n",
    "from sklearn.metrics.pairwise import cosine_similarity\n",
    "\n",
    "# Definir la carpeta base del proyecto (reproducible en notebooks y scripts)\n",
    "BASE_DIR = Path(os.getcwd()).resolve().parent  # Ajusta esto si es necesario\n",
    "RAW_DATA_DIR = BASE_DIR / \"data\" / \"raw\" / \"ml-latest-small\"\n",
    "PROCESSED_DATA_DIR = BASE_DIR / \"data\" / \"processed\"\n",
    "\n",
    "# Crear directorios si no existen\n",
    "PROCESSED_DATA_DIR.mkdir(parents=True, exist_ok=True)\n",
    "\n",
    "#  Verificar si los archivos existen\n",
    "movies_path = RAW_DATA_DIR / \"movies.csv\"\n",
    "ratings_path = RAW_DATA_DIR / \"ratings.csv\"\n",
    "tags_path = RAW_DATA_DIR / \"tags.csv\"\n",
    "\n",
    "\n",
    "#  2. Cargar los datos originales de MovieLens\n",
    "movies = pd.read_csv(movies_path)\n",
    "ratings = pd.read_csv(ratings_path)\n",
    "tags = pd.read_csv(tags_path)\n",
    "\n",
    "#  3. Calcular la calificación promedio por película\n",
    "movie_ratings = ratings.groupby(\"movieId\")[\"rating\"].mean().reset_index()\n",
    "movie_ratings.rename(columns={\"rating\": \"avg_rating\"}, inplace=True)\n",
    "\n",
    "# 4. Unir datos de ratings con la tabla de películas\n",
    "movies = movies.merge(movie_ratings, on=\"movieId\", how=\"left\")\n",
    "\n",
    "#  5. Verificar si `avg_rating` existe antes de asignar valores\n",
    "if \"avg_rating\" not in movies.columns:\n",
    "    raise KeyError(\" La columna `avg_rating` no se encuentra en `movies` después del merge.\")\n",
    "\n",
    "movies[\"avg_rating\"] = movies[\"avg_rating\"].fillna(0)  # Rellenar valores faltantes\n",
    "\n",
    "#  6. Crear una columna de contenido combinando título, géneros y etiquetas\n",
    "tags_grouped = tags.groupby(\"movieId\")[\"tag\"].apply(lambda x: \" \".join(x)).reset_index()\n",
    "movies = movies.merge(tags_grouped, on=\"movieId\", how=\"left\")\n",
    "movies[\"tag\"] = movies[\"tag\"].fillna(\"\")\n",
    "movies[\"content\"] = movies[\"title\"] + \" \" + movies[\"genres\"] + \" \" + movies[\"tag\"]\n",
    "\n",
    "# 7. Aplicar TF-IDF para vectorizar los datos y calcular similitud de contenido\n",
    "tfidf = TfidfVectorizer(stop_words=\"english\")\n",
    "tfidf_matrix = tfidf.fit_transform(movies[\"content\"])\n",
    "cosine_sim = cosine_similarity(tfidf_matrix, tfidf_matrix)\n",
    "\n",
    "# 8. Guardar los archivos preprocesados en `data/processed`\n",
    "movies.to_parquet(PROCESSED_DATA_DIR / \"movies_processed.parquet\")\n",
    "np.save(PROCESSED_DATA_DIR / \"adjusted_sim.npy\", cosine_sim)\n",
    "\n",
    "#  9. Verificar que los archivos se hayan guardado correctamente\n",
    "if (PROCESSED_DATA_DIR / \"movies_processed.parquet\").exists() and (PROCESSED_DATA_DIR / \"adjusted_sim.npy\").exists():\n",
    "    print(\" Archivos preprocesados guardados exitosamente.\")\n",
    "else:\n",
    "    print(\"Error al guardar los archivos procesados.\")\n"
   ]
  }
 ],
 "metadata": {
  "kernelspec": {
   "display_name": "Python 3",
   "language": "python",
   "name": "python3"
  },
  "language_info": {
   "codemirror_mode": {
    "name": "ipython",
    "version": 3
   },
   "file_extension": ".py",
   "mimetype": "text/x-python",
   "name": "python",
   "nbconvert_exporter": "python",
   "pygments_lexer": "ipython3",
   "version": "3.11.7"
  }
 },
 "nbformat": 4,
 "nbformat_minor": 2
}
