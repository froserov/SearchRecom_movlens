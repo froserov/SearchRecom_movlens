{
 "cells": [
  {
   "cell_type": "markdown",
   "metadata": {},
   "source": [
    "### Desarrollo de index en ES LOCAL"
   ]
  },
  {
   "cell_type": "code",
   "execution_count": null,
   "metadata": {},
   "outputs": [],
   "source": [
    "# 1. Importar librerías necesarias\n",
    "\n",
    "import os\n",
    "import pandas as pd\n",
    "import numpy as np\n",
    "from elasticsearch import Elasticsearch, helpers\n",
    "import streamlit as st\n",
    "from pathlib import Path"
   ]
  },
  {
   "cell_type": "code",
   "execution_count": 19,
   "metadata": {},
   "outputs": [],
   "source": [
    "# 2. Conectar a Elasticsearch (local)\n",
    "es = Elasticsearch(\"http://localhost:9200\")"
   ]
  },
  {
   "cell_type": "code",
   "execution_count": 20,
   "metadata": {},
   "outputs": [],
   "source": [
    "#  3. Definir índice con sinónimos y análisis de texto\n",
    "index_name = \"movies\"\n",
    "index_config = {\n",
    "    \"settings\": {\n",
    "        \"analysis\": {\n",
    "            \"analyzer\": {\n",
    "                \"synonym_analyzer\": {\n",
    "                    \"tokenizer\": \"standard\",\n",
    "                    \"filter\": [\"lowercase\", \"synonym_filter\"]\n",
    "                }\n",
    "            },\n",
    "            \"filter\": {\n",
    "                \"synonym_filter\": {\n",
    "                    \"type\": \"synonym\",\n",
    "                    \"synonyms\": [\n",
    "                        \"sci-fi, science fiction\",\n",
    "                        \"thriller, suspense\",\n",
    "                        \"animation, cartoon\",\n",
    "                        \"drama, tragedy\"\n",
    "                    ]\n",
    "                }\n",
    "            }\n",
    "        }\n",
    "    },\n",
    "    \"mappings\": {\n",
    "        \"properties\": {\n",
    "            \"title\": {\"type\": \"text\", \"analyzer\": \"synonym_analyzer\"},\n",
    "            \"genres\": {\"type\": \"text\", \"analyzer\": \"synonym_analyzer\"},\n",
    "            \"avg_rating\": {\"type\": \"float\"}\n",
    "        }\n",
    "    }\n",
    "}"
   ]
  },
  {
   "cell_type": "code",
   "execution_count": null,
   "metadata": {},
   "outputs": [],
   "source": [
    "\n",
    "# Definir la carpeta base del proyecto\n",
    "BASE_DIR = Path(os.getcwd()).resolve().parent  # Ajusta según sea necesario\n",
    "PROCESSED_DATA_DIR = BASE_DIR / \"data\" / \"processed\"\n",
    "\n",
    "#  Cargar datos preprocesados\n",
    "movies_path = PROCESSED_DATA_DIR / \"movies_processed.parquet\"\n",
    "movies = pd.read_parquet(movies_path)"
   ]
  },
  {
   "cell_type": "code",
   "execution_count": 25,
   "metadata": {},
   "outputs": [
    {
     "name": "stderr",
     "output_type": "stream",
     "text": [
      "2025-03-14 12:35:37.103 No runtime found, using MemoryCacheStorageManager\n"
     ]
    },
    {
     "name": "stdout",
     "output_type": "stream",
     "text": [
      " Resultados de búsqueda para 'sci fi': ['Ski School (1991)', 'Legend, The (Legend of Fong Sai-Yuk, The) (Fong Sai Yuk) (1993)', 'Children of Huang Shi, The (2008)', 'Sacrifice (Zhao shi gu er) (2010)', 'Who Am I? (Wo shi shei) (1998)', 'Grandmaster, The (Yi dai zong shi) (2013)', 'Fallen Angels (Duo luo tian shi) (1995)', 'Beijing Bicycle (Shiqi sui de dan che) (2001)', 'Ashes of Time (Dung che sai duk) (1994)', 'House of Flying Daggers (Shi mian mai fu) (2004)']\n"
     ]
    }
   ],
   "source": [
    "#  6. Indexar datos en Elasticsearch\n",
    "bulk_data = []\n",
    "for movie in movies.to_dict(orient=\"records\"):\n",
    "    bulk_data.append({\n",
    "        \"_index\": index_name,\n",
    "        \"_id\": movie[\"movieId\"],\n",
    "        \"_source\": {\n",
    "            \"title\": movie[\"title\"],\n",
    "            \"genres\": movie[\"genres\"],\n",
    "            \"avg_rating\": movie[\"avg_rating\"]\n",
    "        }\n",
    "    })\n",
    "\n",
    "helpers.bulk(es, bulk_data)\n",
    "\n",
    "#  7. Función de búsqueda en Elasticsearch con Boosting y Fuzziness\n",
    "@st.cache_data\n",
    "def search_movies(query):\n",
    "    search_body = {\n",
    "        \"query\": {\n",
    "            \"multi_match\": {\n",
    "                \"query\": query,\n",
    "                \"fields\": [\"title^3\", \"genres^1\"],  # Boosting en títulos\n",
    "                \"fuzziness\": \"AUTO\"  #  Tolerancia a errores tipográficos\n",
    "            }\n",
    "        }\n",
    "    }\n",
    "    res = es.search(index=index_name, body=search_body)\n",
    "    return [hit[\"_source\"][\"title\"] for hit in res[\"hits\"][\"hits\"]]\n",
    "\n",
    "\n",
    "#  8. Probar la búsqueda en Elasticsearch\n",
    "query_test = \"sci fi\"\n",
    "search_results = search_movies(query_test)\n",
    "print(f\" Resultados de búsqueda para '{query_test}':\", search_results)"
   ]
  },
  {
   "cell_type": "code",
   "execution_count": null,
   "metadata": {},
   "outputs": [],
   "source": [
    "#  8. Probar la búsqueda en Elasticsearch\n",
    "query_test = \"sci fi\"\n",
    "search_results = search_movies(query_test)\n",
    "print(f\" Resultados de búsqueda para '{query_test}':\", search_results)"
   ]
  }
 ],
 "metadata": {
  "kernelspec": {
   "display_name": "Python 3",
   "language": "python",
   "name": "python3"
  },
  "language_info": {
   "codemirror_mode": {
    "name": "ipython",
    "version": 3
   },
   "file_extension": ".py",
   "mimetype": "text/x-python",
   "name": "python",
   "nbconvert_exporter": "python",
   "pygments_lexer": "ipython3",
   "version": "3.11.7"
  }
 },
 "nbformat": 4,
 "nbformat_minor": 2
}
