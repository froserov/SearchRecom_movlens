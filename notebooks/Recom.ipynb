{
 "cells": [
  {
   "cell_type": "markdown",
   "metadata": {},
   "source": [
    "## Recommender: Implementación de recomendaciones por contenido"
   ]
  },
  {
   "cell_type": "code",
   "execution_count": null,
   "metadata": {},
   "outputs": [],
   "source": [
    "#  1. Importar librerías necesarias\n",
    "import os\n",
    "import pandas as pd\n",
    "import numpy as np\n",
    "from pathlib import Path\n",
    "from sklearn.metrics.pairwise import cosine_similarity"
   ]
  },
  {
   "cell_type": "code",
   "execution_count": null,
   "metadata": {},
   "outputs": [],
   "source": [
    "#  Cargar datos preprocesados\n",
    "movies_path = PROCESSED_DATA_DIR / \"movies_processed.parquet\"\n",
    "similarity_path = PROCESSED_DATA_DIR / \"adjusted_sim.npy\"\n",
    "\n",
    "if not movies_path.exists():\n",
    "    raise FileNotFoundError(f\"🚨 El archivo {movies_path} no existe. Asegúrate de ejecutar el preprocesamiento.\")\n",
    "\n",
    "if not similarity_path.exists():\n",
    "    raise FileNotFoundError(f\"🚨 El archivo {similarity_path} no existe. Asegúrate de ejecutar el preprocesamiento.\")\n",
    "\n",
    "movies = pd.read_parquet(movies_path)\n",
    "adjusted_sim = np.load(similarity_path)\n",
    "\n",
    "\n"
   ]
  },
  {
   "cell_type": "code",
   "execution_count": 3,
   "metadata": {},
   "outputs": [],
   "source": [
    "#  Crear índice de títulos\n",
    "indices = pd.Series(movies.index, index=movies[\"title\"]).drop_duplicates()\n",
    "\n",
    "#  Función para obtener recomendaciones\n",
    "def get_recommendations(title):\n",
    "    if title in indices:\n",
    "        idx = indices[title]\n",
    "        sim_scores = list(enumerate(adjusted_sim[idx]))\n",
    "        sim_scores = sorted(sim_scores, key=lambda x: x[1], reverse=True)\n",
    "        sim_scores = sim_scores[1:6]\n",
    "        movie_indices = [i[0] for i in sim_scores]\n",
    "        \n",
    "        recommended_movies = movies.iloc[movie_indices][[\"title\", \"avg_rating\", \"genres\"]]\n",
    "        recommended_movies = recommended_movies.sort_values(by=\"avg_rating\", ascending=False).head(3)\n",
    "        \n",
    "        return recommended_movies\n",
    "    else:\n",
    "        return pd.DataFrame(columns=[\"title\", \"avg_rating\", \"genres\"])\n"
   ]
  },
  {
   "cell_type": "code",
   "execution_count": 2,
   "metadata": {},
   "outputs": [
    {
     "name": "stdout",
     "output_type": "stream",
     "text": [
      " Recomendaciones para: Toy Story (1995)\n",
      "                   title  avg_rating  \\\n",
      "7355  Toy Story 3 (2010)    4.109091   \n",
      "7039           Up (2009)    4.004762   \n",
      "2355  Toy Story 2 (1999)    3.860825   \n",
      "\n",
      "                                                genres  \n",
      "7355  Adventure|Animation|Children|Comedy|Fantasy|IMAX  \n",
      "7039                Adventure|Animation|Children|Drama  \n",
      "2355       Adventure|Animation|Children|Comedy|Fantasy  \n"
     ]
    }
   ],
   "source": [
    "\n",
    "#  ejemplo\n",
    "example_movie = \"Toy Story (1995)\"\n",
    "recommendations = get_recommendations(example_movie)\n",
    "\n",
    "print(f\" Recomendaciones para: {example_movie}\")\n",
    "print(recommendations)\n"
   ]
  }
 ],
 "metadata": {
  "kernelspec": {
   "display_name": "Python 3",
   "language": "python",
   "name": "python3"
  },
  "language_info": {
   "codemirror_mode": {
    "name": "ipython",
    "version": 3
   },
   "file_extension": ".py",
   "mimetype": "text/x-python",
   "name": "python",
   "nbconvert_exporter": "python",
   "pygments_lexer": "ipython3",
   "version": "3.11.7"
  }
 },
 "nbformat": 4,
 "nbformat_minor": 2
}
